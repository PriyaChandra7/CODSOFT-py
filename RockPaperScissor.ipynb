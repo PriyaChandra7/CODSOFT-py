{
 "cells": [
  {
   "cell_type": "code",
   "execution_count": null,
   "id": "b0df18c2-6a1f-40b7-b87a-569b233bee8f",
   "metadata": {},
   "outputs": [],
   "source": [
    "\"\"\"\n",
    "ROCK PAPER SCISSOR GAME\n",
    "input from user first then computer choose randomly\n",
    "then print result\n",
    " \"\"\"\n",
    "\n",
    "import random\n",
    "user_score=0\n",
    "comp_score=0\n",
    "ties=0\n",
    "\n",
    "print(\"~~~~~~~~ Welcome to Rock Paper Scissor ~~~~~~~~\")\n",
    "print(\"Enter 'quit' to exit the game.\")\n",
    "\n",
    "#we made list datatype to store more than one value\n",
    "while True: \n",
    "    item_list=[\"Rock\",\"Paper\",\"Scissor\"]\n",
    "   \n",
    "    UserChoice=input(\"Enter your move = Rock,Paper,Scissor\\n\")\n",
    "    \n",
    "    if UserChoice == 'quit':\n",
    "        break\n",
    "        #when you enter wrong item\n",
    "    if UserChoice not in item_list:\n",
    "        print(\"Please try again\")\n",
    "        continue\n",
    "#Skip the rest of the current iteration in the while loop.Go back to the top of the loop and re-evaluate the loop condition (while True:).\n",
    "    compChoice= random.choice(item_list)\n",
    "    print(\"Your choice= {}\".format(UserChoice),\"\\nComputer choice= {}\".format(compChoice))\n",
    "       \n",
    "    if UserChoice==compChoice:\n",
    "        print(\"Both chooses same, Match tie\")\n",
    "        ties+=1\n",
    "    elif (UserChoice==\"Paper\" and compChoice==\"Rock\" or \n",
    "          UserChoice==\"Rock\" and compChoice==\"Scissor\" or \n",
    "          UserChoice==\"Scissor\" and compChoice==\"Paper\"):\n",
    "        user_score+=1\n",
    "    else:\n",
    "        comp_score+=1\n",
    "        \n",
    "    print(f\"Your Score: {user_score},\\nComputer Score: {comp_score}\\nTies:{ties}\")\n",
    "    play_again = input(\"Want to play again? (yes/no): \").lower() \n",
    "    #user can enter their choice in any case (e.g., \"Rock\", \"ROCK\", \"rOcK\", etc.), and the program will take it as a lower case\n",
    "    if play_again == 'no':\n",
    "        break\n",
    "    \n",
    "if user_score>comp_score:\n",
    "    print(\"Hurrayyy!! You winnn..\")\n",
    "elif user_score==comp_score or user_score<ties or comp_score<ties:\n",
    "    print(\"Alert!! Match Ties.\")\n",
    "else:\n",
    "    print(\"Computer wins..\")\n",
    "\n",
    "print(\"Thanks for playing! Have a nice dayy!\")\n",
    "\n"
   ]
  },
  {
   "cell_type": "code",
   "execution_count": null,
   "id": "c8bdac12-b9b5-4a6f-8120-363b690fe094",
   "metadata": {},
   "outputs": [],
   "source": []
  }
 ],
 "metadata": {
  "kernelspec": {
   "display_name": "Python 3 (ipykernel)",
   "language": "python",
   "name": "python3"
  },
  "language_info": {
   "codemirror_mode": {
    "name": "ipython",
    "version": 3
   },
   "file_extension": ".py",
   "mimetype": "text/x-python",
   "name": "python",
   "nbconvert_exporter": "python",
   "pygments_lexer": "ipython3",
   "version": "3.11.7"
  }
 },
 "nbformat": 4,
 "nbformat_minor": 5
}
