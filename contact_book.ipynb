{
 "cells": [
  {
   "cell_type": "code",
   "execution_count": 10,
   "id": "27e3f169-bc51-4773-848d-8bdb8c045a6e",
   "metadata": {},
   "outputs": [
    {
     "name": "stdout",
     "output_type": "stream",
     "text": [
      "\n",
      "Contact Book Menu:\n",
      "1. Add Contact\n",
      "2. Delete Contact\n",
      "3. Search Contact\n",
      "4. Display all Contact\n",
      "5. Quit\n"
     ]
    },
    {
     "name": "stdin",
     "output_type": "stream",
     "text": [
      "Enter your choice:  1\n",
      "Enter the name:  fygu\n",
      "Enter the phone number:  23676879\n",
      "Enter the email:  dy2@gmail.com\n",
      "Enter the address:  yfyf\n"
     ]
    },
    {
     "name": "stdout",
     "output_type": "stream",
     "text": [
      "Contact added.\n",
      "\n",
      "Contact Book Menu:\n",
      "1. Add Contact\n",
      "2. Delete Contact\n",
      "3. Search Contact\n",
      "4. Display all Contact\n",
      "5. Quit\n"
     ]
    },
    {
     "name": "stdin",
     "output_type": "stream",
     "text": [
      "Enter your choice:  4\n"
     ]
    },
    {
     "name": "stdout",
     "output_type": "stream",
     "text": [
      "\n",
      "All Contacts:\n",
      "Name:fygu, Phone: 23676879, Email:dy2@gmail.com, Address: sec3A\n",
      "\n",
      "Contact Book Menu:\n",
      "1. Add Contact\n",
      "2. Delete Contact\n",
      "3. Search Contact\n",
      "4. Display all Contact\n",
      "5. Quit\n"
     ]
    },
    {
     "name": "stdin",
     "output_type": "stream",
     "text": [
      "Enter your choice:  2\n",
      "Enter the name of the contact to delete:  fygu\n"
     ]
    },
    {
     "name": "stdout",
     "output_type": "stream",
     "text": [
      "contact deleted.\n",
      "\n",
      "Contact Book Menu:\n",
      "1. Add Contact\n",
      "2. Delete Contact\n",
      "3. Search Contact\n",
      "4. Display all Contact\n",
      "5. Quit\n"
     ]
    },
    {
     "name": "stdin",
     "output_type": "stream",
     "text": [
      "Enter your choice:  1\n",
      "Enter the name:  Priya\n",
      "Enter the phone number:  9910015879\n",
      "Enter the email:  sudg@gmail.com\n",
      "Enter the address:  sec3A\n"
     ]
    },
    {
     "name": "stdout",
     "output_type": "stream",
     "text": [
      "Contact added.\n",
      "\n",
      "Contact Book Menu:\n",
      "1. Add Contact\n",
      "2. Delete Contact\n",
      "3. Search Contact\n",
      "4. Display all Contact\n",
      "5. Quit\n"
     ]
    },
    {
     "name": "stdin",
     "output_type": "stream",
     "text": [
      "Enter your choice:  4\n"
     ]
    },
    {
     "name": "stdout",
     "output_type": "stream",
     "text": [
      "\n",
      "All Contacts:\n",
      "Name:Priya, Phone: 9910015879, Email:sudg@gmail.com, Address: sec3A\n",
      "\n",
      "Contact Book Menu:\n",
      "1. Add Contact\n",
      "2. Delete Contact\n",
      "3. Search Contact\n",
      "4. Display all Contact\n",
      "5. Quit\n"
     ]
    },
    {
     "name": "stdin",
     "output_type": "stream",
     "text": [
      "Enter your choice:  5\n"
     ]
    },
    {
     "name": "stdout",
     "output_type": "stream",
     "text": [
      "Goodbye!\n"
     ]
    }
   ],
   "source": [
    "class Contact:\n",
    "    def __init__(self,name,phone,email,address):\n",
    "        self.name=name\n",
    "        self.phone=phone\n",
    "        self.email=email\n",
    "        self.address=address\n",
    "#str method is for custom string resprrsntation of instance of the class        \n",
    "    def __str__(self):\n",
    "        return f\"Name:{self.name}, Phone: {self.phone}, Email:{self.email}, Address: {address}\"\n",
    "\n",
    "#this class manage the collecticon of contacts\n",
    "class ContactBook:\n",
    "    def __init__(self):\n",
    "        self.contacts =[]\n",
    "        \n",
    "    def add_contact(self,contact):\n",
    "        self.contacts.append(contact)\n",
    "        \n",
    "    def delete_contact(self,name):\n",
    "        for contact in self.contacts:\n",
    "            if contact.name==name:\n",
    "                self.contacts.remove(contact)\n",
    "                \n",
    "    def search_contact(self,name):\n",
    "        for contact in self.contacts:\n",
    "            if contact.name==name:\n",
    "                return contact\n",
    "            return None \n",
    "            \n",
    "    def display_contact(self):\n",
    "        for contact in self.contacts:\n",
    "            print(contact)\n",
    "\n",
    "def main():\n",
    "    contact_book=ContactBook()\n",
    "    \n",
    "    while True:\n",
    "        print(\"\\nContact Book Menu:\")\n",
    "        print(\"1. Add Contact\")\n",
    "        print(\"2. Delete Contact\")\n",
    "        print(\"3. Search Contact\")\n",
    "        print(\"4. Display all Contact\")\n",
    "        print(\"5. Quit\")\n",
    "        \n",
    "        choice=input(\"Enter your choice: \")\n",
    "        \n",
    "        if choice==\"1\":\n",
    "            name=input(\"Enter the name: \")\n",
    "            phone=input(\"Enter the phone number: \")\n",
    "            email=input(\"Enter the email: \")\n",
    "            address=input(\"Enter the address: \")\n",
    "            contact= Contact(name,phone,email,address)\n",
    "            contact_book.add_contact(contact)\n",
    "            print(\"Contact added.\")\n",
    "            \n",
    "        elif choice==\"2\":\n",
    "            name=input(\"Enter the name of the contact to delete: \")\n",
    "            contact_book.delete_contact(name)\n",
    "            print(\"contact deleted.\")\n",
    "            \n",
    "        elif choice==\"3\":\n",
    "            name=input(\"Enter the name to search: \")\n",
    "            contact= contactn_book.search_contact(name)\n",
    "            if contact:\n",
    "                print(\"Contact found: \")\n",
    "                print(contact)\n",
    "            else:\n",
    "                print(\"Contact not found.\")\n",
    "                \n",
    "        elif choice==\"4\":\n",
    "            print(\"\\nAll Contacts:\")\n",
    "            contact_book.display_contact()\n",
    "            \n",
    "        elif choice==\"5\":\n",
    "            print(\"Goodbye!\")\n",
    "            break\n",
    "        else:\n",
    "            print(\"Invalid choice.Please try again.\")\n",
    "\n",
    "\n",
    "if __name__== \"__main__\":\n",
    "    main()\n"
   ]
  },
  {
   "cell_type": "code",
   "execution_count": null,
   "id": "145c74b6-eeaa-49db-8773-9c5440f2ae59",
   "metadata": {},
   "outputs": [],
   "source": []
  }
 ],
 "metadata": {
  "kernelspec": {
   "display_name": "Python 3 (ipykernel)",
   "language": "python",
   "name": "python3"
  },
  "language_info": {
   "codemirror_mode": {
    "name": "ipython",
    "version": 3
   },
   "file_extension": ".py",
   "mimetype": "text/x-python",
   "name": "python",
   "nbconvert_exporter": "python",
   "pygments_lexer": "ipython3",
   "version": "3.11.7"
  }
 },
 "nbformat": 4,
 "nbformat_minor": 5
}
